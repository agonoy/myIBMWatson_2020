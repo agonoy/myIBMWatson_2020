{
    "cells": [
        {
            "cell_type": "code",
            "execution_count": null,
            "metadata": {},
            "outputs": [],
            "source": "# The code was removed by Watson Studio for sharing."
        },
        {
            "cell_type": "code",
            "execution_count": 17,
            "metadata": {},
            "outputs": [
                {
                    "data": {
                        "text/html": "<div>\n<style scoped>\n    .dataframe tbody tr th:only-of-type {\n        vertical-align: middle;\n    }\n\n    .dataframe tbody tr th {\n        vertical-align: top;\n    }\n\n    .dataframe thead th {\n        text-align: right;\n    }\n</style>\n<table border=\"1\" class=\"dataframe\">\n  <thead>\n    <tr style=\"text-align: right;\">\n      <th></th>\n      <th>0</th>\n      <th>1</th>\n      <th>2</th>\n    </tr>\n  </thead>\n  <tbody>\n    <tr>\n      <th>0</th>\n      <td>Joe</td>\n      <td>si110</td>\n      <td>1</td>\n    </tr>\n    <tr>\n      <th>1</th>\n      <td>Sahil</td>\n      <td>si110</td>\n      <td>0</td>\n    </tr>\n    <tr>\n      <th>2</th>\n      <td>Kristal</td>\n      <td>si110</td>\n      <td>0</td>\n    </tr>\n    <tr>\n      <th>3</th>\n      <td>Zeid</td>\n      <td>si110</td>\n      <td>0</td>\n    </tr>\n    <tr>\n      <th>4</th>\n      <td>Cooper</td>\n      <td>si110</td>\n      <td>0</td>\n    </tr>\n    <tr>\n      <th>5</th>\n      <td>Alishba</td>\n      <td>si110</td>\n      <td>0</td>\n    </tr>\n    <tr>\n      <th>6</th>\n      <td>Kasey</td>\n      <td>si110</td>\n      <td>0</td>\n    </tr>\n    <tr>\n      <th>7</th>\n      <td>Leela</td>\n      <td>si110</td>\n      <td>0</td>\n    </tr>\n    <tr>\n      <th>8</th>\n      <td>Kalani</td>\n      <td>si110</td>\n      <td>0</td>\n    </tr>\n    <tr>\n      <th>9</th>\n      <td>Alexx</td>\n      <td>si110</td>\n      <td>0</td>\n    </tr>\n  </tbody>\n</table>\n</div>",
                        "text/plain": "         0      1  2\n0      Joe  si110  1\n1    Sahil  si110  0\n2  Kristal  si110  0\n3     Zeid  si110  0\n4   Cooper  si110  0\n5  Alishba  si110  0\n6    Kasey  si110  0\n7    Leela  si110  0\n8   Kalani  si110  0\n9    Alexx  si110  0"
                    },
                    "execution_count": 17,
                    "metadata": {},
                    "output_type": "execute_result"
                }
            ],
            "source": "\nbody = client_79fe93d79e3e41558cb0255fbe6f331c.get_object(Bucket='jupiterwatson-donotdelete-pr-guuwqdt5tkvy4b',Key='roster_data.json')['Body']\n# add missing __iter__ method, so pandas accepts body as file-like object \n\nif not hasattr(body, \"__iter__\"): body.__iter__ = types.MethodType( __iter__, body )\n\n# Since JSON data can be semi-structured and contain additional metadata, it is possible that you might face an error during data loading.\n# Please read the documentation of 'pandas.read_json()' and 'pandas.io.json.json_normalize' to learn more about the possibilities to adjust the data loading.\n# pandas documentation: http://pandas.pydata.org/pandas-docs/stable/io.html#io-json-reader\n# and http://pandas.pydata.org/pandas-docs/stable/generated/pandas.io.json.json_normalize.html\n\ndf_data_2 = pd.read_json(body, orient='values')\ndf_data_2.head(10)\n"
        },
        {
            "cell_type": "code",
            "execution_count": null,
            "metadata": {},
            "outputs": [],
            "source": ""
        },
        {
            "cell_type": "code",
            "execution_count": 5,
            "metadata": {},
            "outputs": [],
            "source": "\n"
        },
        {
            "cell_type": "code",
            "execution_count": null,
            "metadata": {},
            "outputs": [],
            "source": ""
        },
        {
            "cell_type": "code",
            "execution_count": 6,
            "metadata": {},
            "outputs": [],
            "source": "\n"
        },
        {
            "cell_type": "code",
            "execution_count": null,
            "metadata": {},
            "outputs": [],
            "source": ""
        }
    ],
    "metadata": {
        "kernelspec": {
            "display_name": "Python 3.6",
            "language": "python",
            "name": "python3"
        },
        "language_info": {
            "codemirror_mode": {
                "name": "ipython",
                "version": 3
            },
            "file_extension": ".py",
            "mimetype": "text/x-python",
            "name": "python",
            "nbconvert_exporter": "python",
            "pygments_lexer": "ipython3",
            "version": "3.6.9"
        }
    },
    "nbformat": 4,
    "nbformat_minor": 1
}